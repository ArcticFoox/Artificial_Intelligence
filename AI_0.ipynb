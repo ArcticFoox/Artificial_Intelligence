{
  "nbformat": 4,
  "nbformat_minor": 0,
  "metadata": {
    "colab": {
      "provenance": [],
      "authorship_tag": "ABX9TyMq8jkeK3hAONAL4fcNZPtx",
      "include_colab_link": true
    },
    "kernelspec": {
      "name": "python3",
      "display_name": "Python 3"
    },
    "language_info": {
      "name": "python"
    }
  },
  "cells": [
    {
      "cell_type": "markdown",
      "metadata": {
        "id": "view-in-github",
        "colab_type": "text"
      },
      "source": [
        "<a href=\"https://colab.research.google.com/github/ArcticFoox/Artificial_Intelligence/blob/main/AI_0.ipynb\" target=\"_parent\"><img src=\"https://colab.research.google.com/assets/colab-badge.svg\" alt=\"Open In Colab\"/></a>"
      ]
    },
    {
      "cell_type": "markdown",
      "source": [],
      "metadata": {
        "id": "lxOPPBNmlhwF"
      }
    },
    {
      "cell_type": "code",
      "execution_count": 1,
      "metadata": {
        "id": "yIM4KW53gTQv"
      },
      "outputs": [],
      "source": [
        "a = 10"
      ]
    },
    {
      "cell_type": "code",
      "source": [
        "name = \"신종신\"\n",
        "age = 23\n",
        "\n",
        "print(age)"
      ],
      "metadata": {
        "colab": {
          "base_uri": "https://localhost:8080/"
        },
        "id": "XfLS8B0IluuK",
        "outputId": "47b2a98f-a9a9-4f2f-e1d3-6c2298ffa88d"
      },
      "execution_count": 8,
      "outputs": [
        {
          "output_type": "stream",
          "name": "stdout",
          "text": [
            "23\n"
          ]
        }
      ]
    },
    {
      "cell_type": "code",
      "source": [
        "print(name, age)"
      ],
      "metadata": {
        "colab": {
          "base_uri": "https://localhost:8080/"
        },
        "id": "_41w7gnlnQTt",
        "outputId": "5d7200b4-da04-4246-89f6-45517b29f71f"
      },
      "execution_count": 9,
      "outputs": [
        {
          "output_type": "stream",
          "name": "stdout",
          "text": [
            "신종신 23\n"
          ]
        }
      ]
    },
    {
      "cell_type": "code",
      "source": [
        "print(\"이름은 \" + name + \" 나이는\", age, \"입니다\")"
      ],
      "metadata": {
        "colab": {
          "base_uri": "https://localhost:8080/"
        },
        "id": "c58Y4tndnTNm",
        "outputId": "56e0e56b-cf4a-4f26-d276-81412627960f"
      },
      "execution_count": 11,
      "outputs": [
        {
          "output_type": "stream",
          "name": "stdout",
          "text": [
            "이름은 신종신나이는 23 입니다\n"
          ]
        }
      ]
    },
    {
      "cell_type": "code",
      "source": [
        "for i in range(1, 10):\n",
        "  print(\"--------\", i, \"단---------\")\n",
        "  for j in range(1, 10):\n",
        "    print(\"구구단 : \", i, \"X\", j, \"=\", i*j, \"입니다\")"
      ],
      "metadata": {
        "colab": {
          "base_uri": "https://localhost:8080/"
        },
        "id": "Om0g8tGJnina",
        "outputId": "0f7389db-1e0d-452c-d73c-e175cf7b98e9"
      },
      "execution_count": 13,
      "outputs": [
        {
          "output_type": "stream",
          "name": "stdout",
          "text": [
            "-------- 1 단---------\n",
            "구구단 :  1 X 1 = 1 입니다\n",
            "구구단 :  1 X 2 = 2 입니다\n",
            "구구단 :  1 X 3 = 3 입니다\n",
            "구구단 :  1 X 4 = 4 입니다\n",
            "구구단 :  1 X 5 = 5 입니다\n",
            "구구단 :  1 X 6 = 6 입니다\n",
            "구구단 :  1 X 7 = 7 입니다\n",
            "구구단 :  1 X 8 = 8 입니다\n",
            "구구단 :  1 X 9 = 9 입니다\n",
            "-------- 2 단---------\n",
            "구구단 :  2 X 1 = 2 입니다\n",
            "구구단 :  2 X 2 = 4 입니다\n",
            "구구단 :  2 X 3 = 6 입니다\n",
            "구구단 :  2 X 4 = 8 입니다\n",
            "구구단 :  2 X 5 = 10 입니다\n",
            "구구단 :  2 X 6 = 12 입니다\n",
            "구구단 :  2 X 7 = 14 입니다\n",
            "구구단 :  2 X 8 = 16 입니다\n",
            "구구단 :  2 X 9 = 18 입니다\n",
            "-------- 3 단---------\n",
            "구구단 :  3 X 1 = 3 입니다\n",
            "구구단 :  3 X 2 = 6 입니다\n",
            "구구단 :  3 X 3 = 9 입니다\n",
            "구구단 :  3 X 4 = 12 입니다\n",
            "구구단 :  3 X 5 = 15 입니다\n",
            "구구단 :  3 X 6 = 18 입니다\n",
            "구구단 :  3 X 7 = 21 입니다\n",
            "구구단 :  3 X 8 = 24 입니다\n",
            "구구단 :  3 X 9 = 27 입니다\n",
            "-------- 4 단---------\n",
            "구구단 :  4 X 1 = 4 입니다\n",
            "구구단 :  4 X 2 = 8 입니다\n",
            "구구단 :  4 X 3 = 12 입니다\n",
            "구구단 :  4 X 4 = 16 입니다\n",
            "구구단 :  4 X 5 = 20 입니다\n",
            "구구단 :  4 X 6 = 24 입니다\n",
            "구구단 :  4 X 7 = 28 입니다\n",
            "구구단 :  4 X 8 = 32 입니다\n",
            "구구단 :  4 X 9 = 36 입니다\n",
            "-------- 5 단---------\n",
            "구구단 :  5 X 1 = 5 입니다\n",
            "구구단 :  5 X 2 = 10 입니다\n",
            "구구단 :  5 X 3 = 15 입니다\n",
            "구구단 :  5 X 4 = 20 입니다\n",
            "구구단 :  5 X 5 = 25 입니다\n",
            "구구단 :  5 X 6 = 30 입니다\n",
            "구구단 :  5 X 7 = 35 입니다\n",
            "구구단 :  5 X 8 = 40 입니다\n",
            "구구단 :  5 X 9 = 45 입니다\n",
            "-------- 6 단---------\n",
            "구구단 :  6 X 1 = 6 입니다\n",
            "구구단 :  6 X 2 = 12 입니다\n",
            "구구단 :  6 X 3 = 18 입니다\n",
            "구구단 :  6 X 4 = 24 입니다\n",
            "구구단 :  6 X 5 = 30 입니다\n",
            "구구단 :  6 X 6 = 36 입니다\n",
            "구구단 :  6 X 7 = 42 입니다\n",
            "구구단 :  6 X 8 = 48 입니다\n",
            "구구단 :  6 X 9 = 54 입니다\n",
            "-------- 7 단---------\n",
            "구구단 :  7 X 1 = 7 입니다\n",
            "구구단 :  7 X 2 = 14 입니다\n",
            "구구단 :  7 X 3 = 21 입니다\n",
            "구구단 :  7 X 4 = 28 입니다\n",
            "구구단 :  7 X 5 = 35 입니다\n",
            "구구단 :  7 X 6 = 42 입니다\n",
            "구구단 :  7 X 7 = 49 입니다\n",
            "구구단 :  7 X 8 = 56 입니다\n",
            "구구단 :  7 X 9 = 63 입니다\n",
            "-------- 8 단---------\n",
            "구구단 :  8 X 1 = 8 입니다\n",
            "구구단 :  8 X 2 = 16 입니다\n",
            "구구단 :  8 X 3 = 24 입니다\n",
            "구구단 :  8 X 4 = 32 입니다\n",
            "구구단 :  8 X 5 = 40 입니다\n",
            "구구단 :  8 X 6 = 48 입니다\n",
            "구구단 :  8 X 7 = 56 입니다\n",
            "구구단 :  8 X 8 = 64 입니다\n",
            "구구단 :  8 X 9 = 72 입니다\n",
            "-------- 9 단---------\n",
            "구구단 :  9 X 1 = 9 입니다\n",
            "구구단 :  9 X 2 = 18 입니다\n",
            "구구단 :  9 X 3 = 27 입니다\n",
            "구구단 :  9 X 4 = 36 입니다\n",
            "구구단 :  9 X 5 = 45 입니다\n",
            "구구단 :  9 X 6 = 54 입니다\n",
            "구구단 :  9 X 7 = 63 입니다\n",
            "구구단 :  9 X 8 = 72 입니다\n",
            "구구단 :  9 X 9 = 81 입니다\n"
          ]
        }
      ]
    },
    {
      "cell_type": "code",
      "source": [
        "exam = [60,80,95,69,90,81,80,69,79,66,70,90,96]\n",
        "\n",
        "for i in range(0, 13):\n",
        "  if(exam[i] >= 90): print(\"당신의 성적은\", exam[i], \"이므로 점수는 A입니다\")\n",
        "  elif(80 <= exam[i] & exam[i] < 90): print(\"당신의 성적은\", exam[i], \"이므로 점수는 B입니다\")\n",
        "  elif(70 <= exam[i] & exam[i] < 80): print(\"당신의 성적은\", exam[i], \"이므로 점수는 C입니다\")\n",
        "  elif(60 <= exam[i] & exam[i] < 70): print(\"당신의 성적은\", exam[i], \"이므로 점수는 D입니다\")\n",
        "  else: print(\"당신의 성적은\", exam[i], \"이므로 점수는 F입니다\")"
      ],
      "metadata": {
        "colab": {
          "base_uri": "https://localhost:8080/"
        },
        "id": "49wzO0jLofm_",
        "outputId": "cbb7df3f-3479-47ae-cc1b-871f63bb5c8e"
      },
      "execution_count": 31,
      "outputs": [
        {
          "output_type": "stream",
          "name": "stdout",
          "text": [
            "당신의 성적은 60 이므로 점수는 D입니다\n",
            "당신의 성적은 80 이므로 점수는 B입니다\n",
            "당신의 성적은 95 이므로 점수는 A입니다\n",
            "당신의 성적은 69 이므로 점수는 D입니다\n",
            "당신의 성적은 90 이므로 점수는 A입니다\n",
            "당신의 성적은 81 이므로 점수는 B입니다\n",
            "당신의 성적은 80 이므로 점수는 B입니다\n",
            "당신의 성적은 69 이므로 점수는 D입니다\n",
            "당신의 성적은 79 이므로 점수는 C입니다\n",
            "당신의 성적은 66 이므로 점수는 D입니다\n",
            "당신의 성적은 70 이므로 점수는 C입니다\n",
            "당신의 성적은 90 이므로 점수는 A입니다\n",
            "당신의 성적은 96 이므로 점수는 A입니다\n"
          ]
        }
      ]
    },
    {
      "cell_type": "code",
      "source": [
        "sum = 0;\n",
        "\n",
        "for i in range(1, 11):\n",
        "  sum += i;\n",
        "  print(\"i의 값:\", i, \", 합계:\", sum)"
      ],
      "metadata": {
        "colab": {
          "base_uri": "https://localhost:8080/"
        },
        "id": "N8xEWMX0rC-K",
        "outputId": "89b153fa-3116-44a6-9a09-734d73faf7e5"
      },
      "execution_count": 17,
      "outputs": [
        {
          "output_type": "stream",
          "name": "stdout",
          "text": [
            "i의 값: 1 , 합계: 1\n",
            "i의 값: 2 , 합계: 3\n",
            "i의 값: 3 , 합계: 6\n",
            "i의 값: 4 , 합계: 10\n",
            "i의 값: 5 , 합계: 15\n",
            "i의 값: 6 , 합계: 21\n",
            "i의 값: 7 , 합계: 28\n",
            "i의 값: 8 , 합계: 36\n",
            "i의 값: 9 , 합계: 45\n",
            "i의 값: 10 , 합계: 55\n"
          ]
        }
      ]
    },
    {
      "cell_type": "code",
      "source": [
        "a = int(10000)\n",
        "b = int(input())\n",
        "if(a < b): print(\"구매가능\")\n",
        "else: print(\"구매불가\")"
      ],
      "metadata": {
        "colab": {
          "base_uri": "https://localhost:8080/"
        },
        "id": "7i3p4JKYsDRt",
        "outputId": "21ca83b0-d12a-4d01-ee34-7f5bea57c8c9"
      },
      "execution_count": 51,
      "outputs": [
        {
          "output_type": "stream",
          "name": "stdout",
          "text": [
            "90\n",
            "구매불가\n"
          ]
        }
      ]
    }
  ]
}